{
 "cells": [
  {
   "cell_type": "code",
   "execution_count": 1,
   "metadata": {},
   "outputs": [
    {
     "name": "stdout",
     "output_type": "stream",
     "text": [
      "[ 0.5        -1.11803399 -0.        ]\n"
     ]
    }
   ],
   "source": [
    "from numpy import array, cross\n",
    "from numpy.linalg import solve, norm\n",
    "\n",
    "# define lines A and B by two points\n",
    "XA0 = array([1, 0, 0])\n",
    "XA1 = array([1, 1, 0])\n",
    "XB0 = array([1,1,1])\n",
    "XB1 = array([1,2,3])\n",
    "\n",
    "# compute unit vectors of directions of lines A and B\n",
    "UA = (XA1 - XA0) / norm(XA1 - XA0)\n",
    "UB = (XB1 - XB0) / norm(XB1 - XB0)\n",
    "# find unit direction vector for line C, which is perpendicular to lines A and B\n",
    "UC = cross(UB, UA); UC /= norm(UC)\n",
    "\n",
    "# solve the system derived in user2255770's answer from StackExchange: https://math.stackexchange.com/q/1993990\n",
    "RHS = XB0 - XA0\n",
    "LHS = array([UA, -UB, UC]).T\n",
    "print(solve(LHS, RHS))\n",
    "# prints \"[ 0. -0.  1.]\""
   ]
  },
  {
   "cell_type": "code",
   "execution_count": null,
   "metadata": {},
   "outputs": [],
   "source": []
  }
 ],
 "metadata": {
  "kernelspec": {
   "display_name": "Python 3",
   "language": "python",
   "name": "python3"
  },
  "language_info": {
   "codemirror_mode": {
    "name": "ipython",
    "version": 3
   },
   "file_extension": ".py",
   "mimetype": "text/x-python",
   "name": "python",
   "nbconvert_exporter": "python",
   "pygments_lexer": "ipython3",
   "version": "3.8.5"
  }
 },
 "nbformat": 4,
 "nbformat_minor": 4
}
