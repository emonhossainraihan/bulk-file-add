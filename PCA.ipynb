{
 "cells": [
  {
   "cell_type": "code",
   "execution_count": 1,
   "metadata": {},
   "outputs": [],
   "source": [
    "import numpy\n",
    " \n",
    "def principalComponents(matrix):\n",
    "    # Columns of matrix correspond to data points, rows to dimensions.\n",
    " \n",
    "    deviationMatrix = (matrix.T - numpy.mean(matrix, axis=1)).T\n",
    "    covarianceMatrix = numpy.cov(deviationMatrix)\n",
    "    eigenvalues, principalComponents = numpy.linalg.eig(covarianceMatrix)\n",
    " \n",
    "    # sort the principal components in decreasing order of corresponding eigenvalue\n",
    "    indexList = numpy.argsort(-eigenvalues)\n",
    "    eigenvalues = eigenvalues[indexList]\n",
    "    principalComponents = principalComponents[:, indexList]\n",
    " \n",
    "    return eigenvalues, principalComponents"
   ]
  },
  {
   "cell_type": "code",
   "execution_count": 2,
   "metadata": {},
   "outputs": [],
   "source": [
    "A = numpy.random.rand(2,3)"
   ]
  },
  {
   "cell_type": "code",
   "execution_count": 3,
   "metadata": {},
   "outputs": [
    {
     "data": {
      "text/plain": [
       "(array([0.12826962, 0.05609741]),\n",
       " array([[ 0.87698802,  0.48051224],\n",
       "        [-0.48051224,  0.87698802]]))"
      ]
     },
     "execution_count": 3,
     "metadata": {},
     "output_type": "execute_result"
    }
   ],
   "source": [
    "principalComponents(A)"
   ]
  },
  {
   "cell_type": "markdown",
   "metadata": {},
   "source": [
    "## Source\n",
    "\n",
    "[Link](https://jeremykun.com/2012/06/28/principal-component-analysis/)"
   ]
  },
  {
   "cell_type": "code",
   "execution_count": null,
   "metadata": {},
   "outputs": [],
   "source": []
  }
 ],
 "metadata": {
  "kernelspec": {
   "display_name": "Python 3",
   "language": "python",
   "name": "python3"
  },
  "language_info": {
   "codemirror_mode": {
    "name": "ipython",
    "version": 3
   },
   "file_extension": ".py",
   "mimetype": "text/x-python",
   "name": "python",
   "nbconvert_exporter": "python",
   "pygments_lexer": "ipython3",
   "version": "3.8.5"
  }
 },
 "nbformat": 4,
 "nbformat_minor": 4
}
