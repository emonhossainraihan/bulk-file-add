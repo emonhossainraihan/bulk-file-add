{
 "cells": [
  {
   "cell_type": "code",
   "execution_count": null,
   "metadata": {},
   "outputs": [],
   "source": [
    "import numpy as np\n",
    "import matplotlib.pyplot as plt\n",
    "\n",
    "def brownian(num=1):\n",
    "    n = 10000\n",
    "    # how many brownian motion we generate? \n",
    "    d = num \n",
    "    T = 1.\n",
    "    times = np.linspace(0.,T,n)\n",
    "    dt = times[1] - times[0]\n",
    "    # increment of brownian motion: B(t2) - B(t1) ~ Normal(0,t2-t1)\n",
    "    dB = np.sqrt(dt) * np.random.normal(size=(n-1,d))\n",
    "    B0 = np.zeros(shape=(1,d))\n",
    "    B = np.concatenate((B0, np.cumsum(dB, axis=0)), axis=0)\n",
    "    plt.figure(figsize=(15, 7))\n",
    "    plt.plot(times, B)\n",
    "    plt.plot(times, quadratic_variation(B))\n",
    "    plt.show()\n",
    "\n",
    "brownian(5000)"
   ]
  },
  {
   "cell_type": "code",
   "execution_count": 25,
   "metadata": {},
   "outputs": [],
   "source": [
    "def quadratic_variation(B):\n",
    "    return np.cumsum(np.power(np.diff(B, axis=0, prepend=0.), 2),axis=0)\n"
   ]
  }
 ],
 "metadata": {
  "kernelspec": {
   "display_name": "Python 3",
   "language": "python",
   "name": "python3"
  },
  "language_info": {
   "codemirror_mode": {
    "name": "ipython",
    "version": 3
   },
   "file_extension": ".py",
   "mimetype": "text/x-python",
   "name": "python",
   "nbconvert_exporter": "python",
   "pygments_lexer": "ipython3",
   "version": "3.8.5"
  }
 },
 "nbformat": 4,
 "nbformat_minor": 4
}
